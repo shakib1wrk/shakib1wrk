{
  "nbformat": 4,
  "nbformat_minor": 0,
  "metadata": {
    "colab": {
      "provenance": [],
      "gpuType": "T4",
      "authorship_tag": "ABX9TyOQlhLB2rgZ9DRFk3Bm7k8B",
      "include_colab_link": true
    },
    "kernelspec": {
      "name": "python3",
      "display_name": "Python 3"
    },
    "language_info": {
      "name": "python"
    },
    "accelerator": "GPU"
  },
  "cells": [
    {
      "cell_type": "markdown",
      "metadata": {
        "id": "view-in-github",
        "colab_type": "text"
      },
      "source": [
        "<a href=\"https://colab.research.google.com/github/shakib1wrk/shakib1wrk/blob/main/custom_CNN.ipynb\" target=\"_parent\"><img src=\"https://colab.research.google.com/assets/colab-badge.svg\" alt=\"Open In Colab\"/></a>"
      ]
    },
    {
      "cell_type": "code",
      "execution_count": 9,
      "metadata": {
        "colab": {
          "base_uri": "https://localhost:8080/"
        },
        "id": "Si-tgVpnbBnD",
        "outputId": "33c33eab-3dc5-49d8-c520-18ad3f93324b"
      },
      "outputs": [
        {
          "output_type": "stream",
          "name": "stdout",
          "text": [
            "Requirement already satisfied: tensorflow in /usr/local/lib/python3.10/dist-packages (2.13.0)\n",
            "Requirement already satisfied: absl-py>=1.0.0 in /usr/local/lib/python3.10/dist-packages (from tensorflow) (1.4.0)\n",
            "Requirement already satisfied: astunparse>=1.6.0 in /usr/local/lib/python3.10/dist-packages (from tensorflow) (1.6.3)\n",
            "Requirement already satisfied: flatbuffers>=23.1.21 in /usr/local/lib/python3.10/dist-packages (from tensorflow) (23.5.26)\n",
            "Requirement already satisfied: gast<=0.4.0,>=0.2.1 in /usr/local/lib/python3.10/dist-packages (from tensorflow) (0.4.0)\n",
            "Requirement already satisfied: google-pasta>=0.1.1 in /usr/local/lib/python3.10/dist-packages (from tensorflow) (0.2.0)\n",
            "Requirement already satisfied: grpcio<2.0,>=1.24.3 in /usr/local/lib/python3.10/dist-packages (from tensorflow) (1.59.0)\n",
            "Requirement already satisfied: h5py>=2.9.0 in /usr/local/lib/python3.10/dist-packages (from tensorflow) (3.9.0)\n",
            "Requirement already satisfied: keras<2.14,>=2.13.1 in /usr/local/lib/python3.10/dist-packages (from tensorflow) (2.13.1)\n",
            "Requirement already satisfied: libclang>=13.0.0 in /usr/local/lib/python3.10/dist-packages (from tensorflow) (16.0.6)\n",
            "Requirement already satisfied: numpy<=1.24.3,>=1.22 in /usr/local/lib/python3.10/dist-packages (from tensorflow) (1.23.5)\n",
            "Requirement already satisfied: opt-einsum>=2.3.2 in /usr/local/lib/python3.10/dist-packages (from tensorflow) (3.3.0)\n",
            "Requirement already satisfied: packaging in /usr/local/lib/python3.10/dist-packages (from tensorflow) (23.2)\n",
            "Requirement already satisfied: protobuf!=4.21.0,!=4.21.1,!=4.21.2,!=4.21.3,!=4.21.4,!=4.21.5,<5.0.0dev,>=3.20.3 in /usr/local/lib/python3.10/dist-packages (from tensorflow) (3.20.3)\n",
            "Requirement already satisfied: setuptools in /usr/local/lib/python3.10/dist-packages (from tensorflow) (67.7.2)\n",
            "Requirement already satisfied: six>=1.12.0 in /usr/local/lib/python3.10/dist-packages (from tensorflow) (1.16.0)\n",
            "Requirement already satisfied: tensorboard<2.14,>=2.13 in /usr/local/lib/python3.10/dist-packages (from tensorflow) (2.13.0)\n",
            "Requirement already satisfied: tensorflow-estimator<2.14,>=2.13.0 in /usr/local/lib/python3.10/dist-packages (from tensorflow) (2.13.0)\n",
            "Requirement already satisfied: termcolor>=1.1.0 in /usr/local/lib/python3.10/dist-packages (from tensorflow) (2.3.0)\n",
            "Requirement already satisfied: typing-extensions<4.6.0,>=3.6.6 in /usr/local/lib/python3.10/dist-packages (from tensorflow) (4.5.0)\n",
            "Requirement already satisfied: wrapt>=1.11.0 in /usr/local/lib/python3.10/dist-packages (from tensorflow) (1.15.0)\n",
            "Requirement already satisfied: tensorflow-io-gcs-filesystem>=0.23.1 in /usr/local/lib/python3.10/dist-packages (from tensorflow) (0.34.0)\n",
            "Requirement already satisfied: wheel<1.0,>=0.23.0 in /usr/local/lib/python3.10/dist-packages (from astunparse>=1.6.0->tensorflow) (0.41.2)\n",
            "Requirement already satisfied: google-auth<3,>=1.6.3 in /usr/local/lib/python3.10/dist-packages (from tensorboard<2.14,>=2.13->tensorflow) (2.17.3)\n",
            "Requirement already satisfied: google-auth-oauthlib<1.1,>=0.5 in /usr/local/lib/python3.10/dist-packages (from tensorboard<2.14,>=2.13->tensorflow) (1.0.0)\n",
            "Requirement already satisfied: markdown>=2.6.8 in /usr/local/lib/python3.10/dist-packages (from tensorboard<2.14,>=2.13->tensorflow) (3.5)\n",
            "Requirement already satisfied: requests<3,>=2.21.0 in /usr/local/lib/python3.10/dist-packages (from tensorboard<2.14,>=2.13->tensorflow) (2.31.0)\n",
            "Requirement already satisfied: tensorboard-data-server<0.8.0,>=0.7.0 in /usr/local/lib/python3.10/dist-packages (from tensorboard<2.14,>=2.13->tensorflow) (0.7.1)\n",
            "Requirement already satisfied: werkzeug>=1.0.1 in /usr/local/lib/python3.10/dist-packages (from tensorboard<2.14,>=2.13->tensorflow) (3.0.0)\n",
            "Requirement already satisfied: cachetools<6.0,>=2.0.0 in /usr/local/lib/python3.10/dist-packages (from google-auth<3,>=1.6.3->tensorboard<2.14,>=2.13->tensorflow) (5.3.1)\n",
            "Requirement already satisfied: pyasn1-modules>=0.2.1 in /usr/local/lib/python3.10/dist-packages (from google-auth<3,>=1.6.3->tensorboard<2.14,>=2.13->tensorflow) (0.3.0)\n",
            "Requirement already satisfied: rsa<5,>=3.1.4 in /usr/local/lib/python3.10/dist-packages (from google-auth<3,>=1.6.3->tensorboard<2.14,>=2.13->tensorflow) (4.9)\n",
            "Requirement already satisfied: requests-oauthlib>=0.7.0 in /usr/local/lib/python3.10/dist-packages (from google-auth-oauthlib<1.1,>=0.5->tensorboard<2.14,>=2.13->tensorflow) (1.3.1)\n",
            "Requirement already satisfied: charset-normalizer<4,>=2 in /usr/local/lib/python3.10/dist-packages (from requests<3,>=2.21.0->tensorboard<2.14,>=2.13->tensorflow) (3.3.0)\n",
            "Requirement already satisfied: idna<4,>=2.5 in /usr/local/lib/python3.10/dist-packages (from requests<3,>=2.21.0->tensorboard<2.14,>=2.13->tensorflow) (3.4)\n",
            "Requirement already satisfied: urllib3<3,>=1.21.1 in /usr/local/lib/python3.10/dist-packages (from requests<3,>=2.21.0->tensorboard<2.14,>=2.13->tensorflow) (2.0.6)\n",
            "Requirement already satisfied: certifi>=2017.4.17 in /usr/local/lib/python3.10/dist-packages (from requests<3,>=2.21.0->tensorboard<2.14,>=2.13->tensorflow) (2023.7.22)\n",
            "Requirement already satisfied: MarkupSafe>=2.1.1 in /usr/local/lib/python3.10/dist-packages (from werkzeug>=1.0.1->tensorboard<2.14,>=2.13->tensorflow) (2.1.3)\n",
            "Requirement already satisfied: pyasn1<0.6.0,>=0.4.6 in /usr/local/lib/python3.10/dist-packages (from pyasn1-modules>=0.2.1->google-auth<3,>=1.6.3->tensorboard<2.14,>=2.13->tensorflow) (0.5.0)\n",
            "Requirement already satisfied: oauthlib>=3.0.0 in /usr/local/lib/python3.10/dist-packages (from requests-oauthlib>=0.7.0->google-auth-oauthlib<1.1,>=0.5->tensorboard<2.14,>=2.13->tensorflow) (3.2.2)\n"
          ]
        }
      ],
      "source": [
        "pip install tensorflow"
      ]
    },
    {
      "cell_type": "code",
      "source": [
        "import tensorflow as tf\n",
        "from tensorflow.keras import layers, models\n",
        "from tensorflow.keras.preprocessing.image import ImageDataGenerator"
      ],
      "metadata": {
        "id": "RIbBzS8SbPjC"
      },
      "execution_count": 10,
      "outputs": []
    },
    {
      "cell_type": "code",
      "source": [
        "from google.colab import drive\n",
        "drive.mount('/content/drive')"
      ],
      "metadata": {
        "colab": {
          "base_uri": "https://localhost:8080/"
        },
        "id": "gzQ9NxWxbWTP",
        "outputId": "df858d6c-2215-463c-89c6-0f606e46ebda"
      },
      "execution_count": 11,
      "outputs": [
        {
          "output_type": "stream",
          "name": "stdout",
          "text": [
            "Drive already mounted at /content/drive; to attempt to forcibly remount, call drive.mount(\"/content/drive\", force_remount=True).\n"
          ]
        }
      ]
    },
    {
      "cell_type": "code",
      "source": [
        "dataset_path = '/content/drive/MyDrive/Data_Set/Augmented'\n",
        "\n",
        "# Define input shape and number of classes\n",
        "input_shape = (512, 512, 3)  # Adjust according to your input data shape\n",
        "num_classes = 6  # Number of classes (folders)"
      ],
      "metadata": {
        "id": "9d2VNHKhbfBx"
      },
      "execution_count": 12,
      "outputs": []
    },
    {
      "cell_type": "code",
      "source": [
        "# Define the CNN model\n",
        "def create_custom_cnn(input_shape, num_classes):\n",
        "    model = models.Sequential()\n",
        "\n",
        "    # Convolutional layers\n",
        "    model.add(layers.Conv2D(32, (3, 3), activation='relu', input_shape=input_shape))\n",
        "    model.add(layers.MaxPooling2D((2, 2)))\n",
        "    model.add(layers.Conv2D(64, (3, 3), activation='relu'))\n",
        "    model.add(layers.MaxPooling2D((2, 2)))\n",
        "    model.add(layers.Conv2D(128, (3, 3), activation='relu'))\n",
        "    model.add(layers.MaxPooling2D((2, 2)))\n",
        "\n",
        "    # Flatten the output for Dense layers\n",
        "    model.add(layers.Flatten())\n",
        "\n",
        "    # Dense layers\n",
        "    model.add(layers.Dense(128, activation='relu'))\n",
        "    model.add(layers.Dropout(0.5))  # Dropout layer for regularization\n",
        "    model.add(layers.Dense(num_classes, activation='softmax'))\n",
        "\n",
        "    return model\n"
      ],
      "metadata": {
        "id": "qNTBT61Yblu5"
      },
      "execution_count": 14,
      "outputs": []
    },
    {
      "cell_type": "code",
      "source": [
        "# Create the model\n",
        "custom_cnn_model = create_custom_cnn(input_shape, num_classes)\n",
        "\n",
        "# Compile the model\n",
        "custom_cnn_model.compile(optimizer='adam',\n",
        "                         loss='categorical_crossentropy',\n",
        "                         metrics=['accuracy'])\n",
        "\n",
        "# Display the model summary\n",
        "custom_cnn_model.summary()\n"
      ],
      "metadata": {
        "colab": {
          "base_uri": "https://localhost:8080/"
        },
        "id": "VVuRg3mlbo8B",
        "outputId": "2de2e42b-5f67-4e3d-8718-0bb35e25a1b2"
      },
      "execution_count": 15,
      "outputs": [
        {
          "output_type": "stream",
          "name": "stdout",
          "text": [
            "Model: \"sequential_1\"\n",
            "_________________________________________________________________\n",
            " Layer (type)                Output Shape              Param #   \n",
            "=================================================================\n",
            " conv2d_3 (Conv2D)           (None, 510, 510, 32)      896       \n",
            "                                                                 \n",
            " max_pooling2d_3 (MaxPoolin  (None, 255, 255, 32)      0         \n",
            " g2D)                                                            \n",
            "                                                                 \n",
            " conv2d_4 (Conv2D)           (None, 253, 253, 64)      18496     \n",
            "                                                                 \n",
            " max_pooling2d_4 (MaxPoolin  (None, 126, 126, 64)      0         \n",
            " g2D)                                                            \n",
            "                                                                 \n",
            " conv2d_5 (Conv2D)           (None, 124, 124, 128)     73856     \n",
            "                                                                 \n",
            " max_pooling2d_5 (MaxPoolin  (None, 62, 62, 128)       0         \n",
            " g2D)                                                            \n",
            "                                                                 \n",
            " flatten_1 (Flatten)         (None, 492032)            0         \n",
            "                                                                 \n",
            " dense_2 (Dense)             (None, 128)               62980224  \n",
            "                                                                 \n",
            " dropout_1 (Dropout)         (None, 128)               0         \n",
            "                                                                 \n",
            " dense_3 (Dense)             (None, 6)                 774       \n",
            "                                                                 \n",
            "=================================================================\n",
            "Total params: 63074246 (240.61 MB)\n",
            "Trainable params: 63074246 (240.61 MB)\n",
            "Non-trainable params: 0 (0.00 Byte)\n",
            "_________________________________________________________________\n"
          ]
        }
      ]
    },
    {
      "cell_type": "code",
      "source": [
        "# Set up data generators with data augmentation\n",
        "datagen = ImageDataGenerator(\n",
        "    rescale=1./255,\n",
        "    shear_range=0.2,\n",
        "    zoom_range=0.2,\n",
        "    horizontal_flip=True,\n",
        "    validation_split=0.2  # 20% of data for validation\n",
        ")\n"
      ],
      "metadata": {
        "id": "_BFUJJDybv_6"
      },
      "execution_count": 16,
      "outputs": []
    },
    {
      "cell_type": "code",
      "source": [
        "# Set batch size\n",
        "batch_size = 32\n",
        "\n",
        "# Create training generator\n",
        "train_generator = datagen.flow_from_directory(\n",
        "    dataset_path,\n",
        "    target_size=(input_shape[0], input_shape[1]),\n",
        "    batch_size=batch_size,\n",
        "    class_mode='categorical',\n",
        "    subset='training'\n",
        ")\n",
        "\n",
        "# Create validation generator\n",
        "validation_generator = datagen.flow_from_directory(\n",
        "    dataset_path,\n",
        "    target_size=(input_shape[0], input_shape[1]),\n",
        "    batch_size=batch_size,\n",
        "    class_mode='categorical',\n",
        "    subset='validation'\n",
        ")\n",
        "\n",
        "# Train the model\n",
        "epochs = 50  # Adjust as needed\n",
        "history = custom_cnn_model.fit(\n",
        "    train_generator,\n",
        "    steps_per_epoch=train_generator.samples // batch_size,\n",
        "    epochs=epochs,\n",
        "    validation_data=validation_generator,\n",
        "    validation_steps=validation_generator.samples // batch_size\n",
        ")"
      ],
      "metadata": {
        "colab": {
          "base_uri": "https://localhost:8080/"
        },
        "id": "Gq7_-duKbzek",
        "outputId": "ac2d9ba8-63fc-4ef0-a333-66940a6225cf"
      },
      "execution_count": 19,
      "outputs": [
        {
          "output_type": "stream",
          "name": "stdout",
          "text": [
            "Found 1402 images belonging to 6 classes.\n",
            "Found 348 images belonging to 6 classes.\n",
            "Epoch 1/50\n",
            "43/43 [==============================] - 110s 3s/step - loss: 0.7993 - accuracy: 0.7022 - val_loss: 0.8817 - val_accuracy: 0.6844\n",
            "Epoch 2/50\n",
            "43/43 [==============================] - 108s 3s/step - loss: 0.7896 - accuracy: 0.7095 - val_loss: 0.9441 - val_accuracy: 0.6500\n",
            "Epoch 3/50\n",
            "43/43 [==============================] - 110s 3s/step - loss: 0.7480 - accuracy: 0.7263 - val_loss: 0.8184 - val_accuracy: 0.6906\n",
            "Epoch 4/50\n",
            "43/43 [==============================] - 110s 3s/step - loss: 0.6705 - accuracy: 0.7540 - val_loss: 0.8478 - val_accuracy: 0.7125\n",
            "Epoch 5/50\n",
            "43/43 [==============================] - 108s 3s/step - loss: 0.7407 - accuracy: 0.6993 - val_loss: 0.7739 - val_accuracy: 0.7219\n",
            "Epoch 6/50\n",
            "43/43 [==============================] - 127s 3s/step - loss: 0.6516 - accuracy: 0.7387 - val_loss: 0.8554 - val_accuracy: 0.7188\n",
            "Epoch 7/50\n",
            "43/43 [==============================] - 106s 2s/step - loss: 0.6049 - accuracy: 0.7708 - val_loss: 0.7940 - val_accuracy: 0.7156\n",
            "Epoch 8/50\n",
            "43/43 [==============================] - 127s 3s/step - loss: 0.6310 - accuracy: 0.7657 - val_loss: 0.7928 - val_accuracy: 0.7031\n",
            "Epoch 9/50\n",
            "43/43 [==============================] - 107s 2s/step - loss: 0.6048 - accuracy: 0.7839 - val_loss: 0.7452 - val_accuracy: 0.7656\n",
            "Epoch 10/50\n",
            "43/43 [==============================] - 129s 3s/step - loss: 0.5677 - accuracy: 0.7912 - val_loss: 0.6150 - val_accuracy: 0.7594\n",
            "Epoch 11/50\n",
            "43/43 [==============================] - 108s 2s/step - loss: 0.5264 - accuracy: 0.8066 - val_loss: 0.7347 - val_accuracy: 0.7312\n",
            "Epoch 12/50\n",
            "43/43 [==============================] - 127s 3s/step - loss: 0.5383 - accuracy: 0.7920 - val_loss: 0.7362 - val_accuracy: 0.7531\n",
            "Epoch 13/50\n",
            "43/43 [==============================] - 109s 3s/step - loss: 0.5127 - accuracy: 0.8073 - val_loss: 0.6671 - val_accuracy: 0.7625\n",
            "Epoch 14/50\n",
            "43/43 [==============================] - 109s 3s/step - loss: 0.4913 - accuracy: 0.8124 - val_loss: 0.6743 - val_accuracy: 0.7531\n",
            "Epoch 15/50\n",
            "43/43 [==============================] - 109s 3s/step - loss: 0.4996 - accuracy: 0.8182 - val_loss: 0.6118 - val_accuracy: 0.7937\n",
            "Epoch 16/50\n",
            "43/43 [==============================] - 108s 3s/step - loss: 0.4356 - accuracy: 0.8387 - val_loss: 0.6280 - val_accuracy: 0.7781\n",
            "Epoch 17/50\n",
            "43/43 [==============================] - 110s 3s/step - loss: 0.3768 - accuracy: 0.8533 - val_loss: 0.7307 - val_accuracy: 0.7469\n",
            "Epoch 18/50\n",
            "43/43 [==============================] - 108s 3s/step - loss: 0.4650 - accuracy: 0.8270 - val_loss: 0.7715 - val_accuracy: 0.7344\n",
            "Epoch 19/50\n",
            "43/43 [==============================] - 108s 3s/step - loss: 0.4434 - accuracy: 0.8307 - val_loss: 0.7136 - val_accuracy: 0.7906\n",
            "Epoch 20/50\n",
            "43/43 [==============================] - 110s 3s/step - loss: 0.4345 - accuracy: 0.8358 - val_loss: 0.6914 - val_accuracy: 0.7812\n",
            "Epoch 21/50\n",
            "43/43 [==============================] - 109s 3s/step - loss: 0.4219 - accuracy: 0.8482 - val_loss: 0.6028 - val_accuracy: 0.7750\n",
            "Epoch 22/50\n",
            "43/43 [==============================] - 108s 3s/step - loss: 0.3661 - accuracy: 0.8664 - val_loss: 0.6251 - val_accuracy: 0.7750\n",
            "Epoch 23/50\n",
            "43/43 [==============================] - 128s 3s/step - loss: 0.3735 - accuracy: 0.8562 - val_loss: 0.6064 - val_accuracy: 0.8219\n",
            "Epoch 24/50\n",
            "43/43 [==============================] - 107s 3s/step - loss: 0.3275 - accuracy: 0.8786 - val_loss: 0.6008 - val_accuracy: 0.7563\n",
            "Epoch 25/50\n",
            "43/43 [==============================] - 128s 3s/step - loss: 0.3702 - accuracy: 0.8613 - val_loss: 0.6526 - val_accuracy: 0.7969\n",
            "Epoch 26/50\n",
            "43/43 [==============================] - 108s 3s/step - loss: 0.3961 - accuracy: 0.8599 - val_loss: 0.7106 - val_accuracy: 0.7719\n",
            "Epoch 27/50\n",
            "43/43 [==============================] - 129s 3s/step - loss: 0.3364 - accuracy: 0.8715 - val_loss: 0.5629 - val_accuracy: 0.8250\n",
            "Epoch 28/50\n",
            "43/43 [==============================] - 108s 3s/step - loss: 0.2985 - accuracy: 0.8964 - val_loss: 0.7475 - val_accuracy: 0.8062\n",
            "Epoch 29/50\n",
            "43/43 [==============================] - 108s 3s/step - loss: 0.2704 - accuracy: 0.8942 - val_loss: 0.6274 - val_accuracy: 0.8062\n",
            "Epoch 30/50\n",
            "43/43 [==============================] - 128s 3s/step - loss: 0.3157 - accuracy: 0.8854 - val_loss: 0.5092 - val_accuracy: 0.8219\n",
            "Epoch 31/50\n",
            "43/43 [==============================] - 108s 3s/step - loss: 0.2667 - accuracy: 0.8985 - val_loss: 0.4908 - val_accuracy: 0.8406\n",
            "Epoch 32/50\n",
            "43/43 [==============================] - 108s 3s/step - loss: 0.2300 - accuracy: 0.9153 - val_loss: 0.5343 - val_accuracy: 0.8406\n",
            "Epoch 33/50\n",
            "43/43 [==============================] - 108s 3s/step - loss: 0.2649 - accuracy: 0.8964 - val_loss: 0.5173 - val_accuracy: 0.8344\n",
            "Epoch 34/50\n",
            "43/43 [==============================] - 107s 3s/step - loss: 0.3083 - accuracy: 0.8971 - val_loss: 0.6828 - val_accuracy: 0.8125\n",
            "Epoch 35/50\n",
            "43/43 [==============================] - 107s 2s/step - loss: 0.2683 - accuracy: 0.8993 - val_loss: 0.5945 - val_accuracy: 0.8313\n",
            "Epoch 36/50\n",
            "43/43 [==============================] - 108s 3s/step - loss: 0.2726 - accuracy: 0.9029 - val_loss: 0.6754 - val_accuracy: 0.8031\n",
            "Epoch 37/50\n",
            "43/43 [==============================] - 108s 3s/step - loss: 0.2052 - accuracy: 0.9212 - val_loss: 0.5196 - val_accuracy: 0.8250\n",
            "Epoch 38/50\n",
            "43/43 [==============================] - 129s 3s/step - loss: 0.2596 - accuracy: 0.9073 - val_loss: 0.6439 - val_accuracy: 0.8281\n",
            "Epoch 39/50\n",
            "43/43 [==============================] - 111s 3s/step - loss: 0.2464 - accuracy: 0.9117 - val_loss: 0.5339 - val_accuracy: 0.8281\n",
            "Epoch 40/50\n",
            "43/43 [==============================] - 126s 3s/step - loss: 0.2077 - accuracy: 0.9226 - val_loss: 0.5218 - val_accuracy: 0.8438\n",
            "Epoch 41/50\n",
            "43/43 [==============================] - 128s 3s/step - loss: 0.2171 - accuracy: 0.9263 - val_loss: 0.6483 - val_accuracy: 0.8188\n",
            "Epoch 42/50\n",
            "43/43 [==============================] - 126s 3s/step - loss: 0.2580 - accuracy: 0.9131 - val_loss: 0.5141 - val_accuracy: 0.8188\n",
            "Epoch 43/50\n",
            "43/43 [==============================] - 109s 3s/step - loss: 0.2503 - accuracy: 0.9073 - val_loss: 0.5035 - val_accuracy: 0.8531\n",
            "Epoch 44/50\n",
            "43/43 [==============================] - 108s 3s/step - loss: 0.2331 - accuracy: 0.9124 - val_loss: 0.6344 - val_accuracy: 0.8469\n",
            "Epoch 45/50\n",
            "43/43 [==============================] - 126s 3s/step - loss: 0.1964 - accuracy: 0.9321 - val_loss: 0.4905 - val_accuracy: 0.8656\n",
            "Epoch 46/50\n",
            "43/43 [==============================] - 108s 3s/step - loss: 0.1909 - accuracy: 0.9350 - val_loss: 0.7327 - val_accuracy: 0.8250\n",
            "Epoch 47/50\n",
            "43/43 [==============================] - 108s 3s/step - loss: 0.2238 - accuracy: 0.9226 - val_loss: 0.5504 - val_accuracy: 0.8406\n",
            "Epoch 48/50\n",
            "43/43 [==============================] - 107s 3s/step - loss: 0.2137 - accuracy: 0.9226 - val_loss: 0.5328 - val_accuracy: 0.8562\n",
            "Epoch 49/50\n",
            "43/43 [==============================] - 107s 2s/step - loss: 0.1794 - accuracy: 0.9285 - val_loss: 0.6081 - val_accuracy: 0.8031\n",
            "Epoch 50/50\n",
            "43/43 [==============================] - 108s 3s/step - loss: 0.2068 - accuracy: 0.9241 - val_loss: 0.5887 - val_accuracy: 0.8531\n"
          ]
        }
      ]
    },
    {
      "cell_type": "code",
      "source": [
        "# Save the model\n",
        "model_name = \"RSMZ_4\"\n",
        "custom_cnn_model.save(f'/content/drive/MyDrive/{model_name}.h5')"
      ],
      "metadata": {
        "id": "VcP8eaCZb1qw"
      },
      "execution_count": 20,
      "outputs": []
    }
  ]
}